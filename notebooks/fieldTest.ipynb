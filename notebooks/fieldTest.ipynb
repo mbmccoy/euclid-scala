{
 "cells": [
  {
   "cell_type": "code",
   "execution_count": 1,
   "id": "68aabd05-2a78-4216-81b5-b5a7a3103698",
   "metadata": {},
   "outputs": [
    {
     "data": {
      "text/plain": [
       "\u001b[32mimport \u001b[39m\u001b[36mammonite.ops._\n",
       "\u001b[39m\n",
       "\u001b[32mimport \u001b[39m\u001b[36msourcecode.Text.generate\n",
       "\u001b[39m\n",
       "\u001b[36mjarString\u001b[39m: \u001b[32mString\u001b[39m = \u001b[32m\"../target/scala-3.0.2/euclid-scala-assembly-0.1.0-SNAPSHOT.jar\"\u001b[39m\n",
       "\u001b[36mpath\u001b[39m: \u001b[32mPath\u001b[39m = /Users/michaelmccoy/Projects/euclid-scala/target/scala-3.0.2/euclid-scala-assembly-0.1.0-SNAPSHOT.jar"
      ]
     },
     "execution_count": 1,
     "metadata": {},
     "output_type": "execute_result"
    }
   ],
   "source": [
    "kernel.silent(true) // supress all non-explicit output\n",
    "import ammonite.ops._\n",
    "import sourcecode.Text.generate\n",
    "val jarString = \"../target/scala-3.0.2/euclid-scala-assembly-0.1.0-SNAPSHOT.jar\"\n",
    "val path = ammonite.ops.pwd / ammonite.ops.RelPath(jarString)\n",
    "interp.load.cp(path)\n"
   ]
  },
  {
   "cell_type": "code",
   "execution_count": 2,
   "id": "cf5a7ec9-d2e6-4dae-828b-a56082b9ce34",
   "metadata": {},
   "outputs": [],
   "source": [
    "def makeExponents(order: Int, l: List[Int]): List[(Int, Int)] = {\n",
    "    l.zipWithIndex.map(t => (t._2, t._1)) :::((order, 1) :: Nil)\n",
    "}"
   ]
  },
  {
   "cell_type": "code",
   "execution_count": 3,
   "id": "2c4731aa-f7a6-4026-9da1-30a608506132",
   "metadata": {},
   "outputs": [
    {
     "name": "stdout",
     "output_type": "stream",
     "text": [
      "com.mbmccoy.euclid.polynomial.PrimeField(65537)\n"
     ]
    }
   ],
   "source": [
    "import com.mbmccoy.euclid.polynomial._\n",
    "import scala.annotation.tailrec\n",
    "\n",
    "val prime = Prime.next(65537)\n",
    "val order = 1\n",
    "val pf = PrimeField(prime)\n",
    "println(pf)\n"
   ]
  },
  {
   "cell_type": "code",
   "execution_count": 4,
   "id": "024c36d7-50b2-4ecb-a8da-61749f36f90d",
   "metadata": {},
   "outputs": [
    {
     "name": "stdout",
     "output_type": "stream",
     "text": [
      "x=1, order=1\n",
      "x=2, order=32\n",
      "x=3, order=65536\n",
      "x=4, order=16\n",
      "x=5, order=65536\n",
      "x=6, order=65536\n",
      "x=7, order=65536\n",
      "x=8, order=32\n",
      "x=9, order=32768\n",
      "x=10, order=65536\n"
     ]
    }
   ],
   "source": [
    "def getOrder(x: pf.Element): Int = {\n",
    "    var y = x\n",
    "    var order = 1\n",
    "    while (y != pf.one) {\n",
    "        y *= x\n",
    "        order += 1\n",
    "    }\n",
    "    order\n",
    "}\n",
    "    \n",
    "// Print some orders here\n",
    "var x = pf.one\n",
    "for (_ <- 0 until 10) {\n",
    "    val order = getOrder(x)\n",
    "    println(f\"x=${x}, order=${order}\")\n",
    "    x = x + pf.one\n",
    "}"
   ]
  },
  {
   "cell_type": "code",
   "execution_count": 5,
   "id": "9efc916b-c888-4e40-ba94-f21470a78300",
   "metadata": {},
   "outputs": [
    {
     "name": "stdout",
     "output_type": "stream",
     "text": [
      "16384: order=16\n",
      "65281: order=4\n"
     ]
    }
   ],
   "source": [
    "val omegaHat = pf(16384) // 128, order = 32\n",
    "val omega = omegaHat.pow(4) // order = 8\n",
    "val omegaOrder = getOrder(omega)\n",
    "val omegaHatOrder = getOrder(omegaHat)\n",
    "def printOrder(x: pf.Element) = println(f\"${x}: order=${getOrder(x)}\")\n",
    "\n",
    "printOrder(omegaHat)\n",
    "printOrder(omega)\n"
   ]
  },
  {
   "cell_type": "code",
   "execution_count": 6,
   "id": "f3ff3bb6-ae88-4571-97bf-7ca5d45a7ddf",
   "metadata": {},
   "outputs": [],
   "source": [
    "\n",
    "val M = pf(44734)\n",
    "val K1 = pf(34369)\n",
    "val K2 = pf(51062)\n",
    "val MInverse = M.reciprocal\n",
    "\n",
    "// TODO: verify that this is close enough to a width-1 Rescue hash.\n",
    "def rescueIteration(x: pf.Element): pf.Element = {\n",
    "    val y: pf.Element = M * x.pow(3) + K1\n",
    "    val cubeRoot = y.reciprocal.pow((pf.order.toInt - 2)/3)\n",
    "    cubeRoot * MInverse + K2\n",
    "}\n",
    "\n",
    "def rescueHash(x: pf.Element, rounds: Int): pf.Element = {\n",
    "    if (rounds <= 0) { \n",
    "        x\n",
    "    } else {\n",
    "        rescueHash(rescueIteration(x), rounds - 1)\n",
    "    }\n",
    "}\n"
   ]
  },
  {
   "cell_type": "code",
   "execution_count": 7,
   "id": "b22a62d3-aa58-4f64-bba0-8b3aa240782c",
   "metadata": {},
   "outputs": [],
   "source": [
    "val fortyTwo = pf(42)\n",
    "\n",
    "@tailrec\n",
    "def winterfellReversed(x: pf.Element, rounds: Int, trace: List[pf.Element] = Nil): List[pf.Element] = {\n",
    "    if (rounds <= 0) trace\n",
    "    else {\n",
    "        winterfellReversed(x*x*x + fortyTwo, rounds - 1, x :: trace)\n",
    "    }\n",
    "}"
   ]
  },
  {
   "cell_type": "code",
   "execution_count": 24,
   "id": "519b0d1f-2ca3-4b10-8de2-a6afd52c6110",
   "metadata": {},
   "outputs": [
    {
     "name": "stdout",
     "output_type": "stream",
     "text": [
      "List(1111, 34485, 15064, 25005)\n"
     ]
    }
   ],
   "source": [
    "//val secret = pf(54234)\n",
    "val secret = pf(1111)\n",
    "val executionTrace = winterfellReversed(secret, 4).reverse\n",
    "println(executionTrace)\n"
   ]
  },
  {
   "cell_type": "code",
   "execution_count": 25,
   "id": "600289c7-3258-4799-976a-958a0247e8c0",
   "metadata": {},
   "outputs": [
    {
     "name": "stdout",
     "output_type": "stream",
     "text": [
      "List(1, 65281, 65536, 256)\n"
     ]
    }
   ],
   "source": [
    "\n",
    "def getSubgroup(x: pf.Element) = {\n",
    "    lazy val subgroup: LazyList[pf.Element] = x #:: subgroup.map{y => x*y}\n",
    "    pf.one :: subgroup.takeWhile(_ != pf.one).toList\n",
    "}\n",
    "val omegas = getSubgroup(omega)\n",
    "\n",
    "println(omegas)"
   ]
  },
  {
   "cell_type": "code",
   "execution_count": 26,
   "id": "3cda4ad4-f19f-4341-aa56-021f6707cab7",
   "metadata": {},
   "outputs": [
    {
     "name": "stdout",
     "output_type": "stream",
     "text": [
      "class com.mbmccoy.euclid.polynomial.PrimeField\n",
      "class com.mbmccoy.euclid.polynomial.PrimeField$Element\n",
      "class com.mbmccoy.euclid.polynomial.PrimeField$Element\n"
     ]
    }
   ],
   "source": [
    "println(pf.getClass)\n",
    "println(pf.one.getClass)\n",
    "println((-pf.one).getClass)"
   ]
  },
  {
   "cell_type": "code",
   "execution_count": 27,
   "id": "53f7f728-f566-4bb1-adf3-2338ea390b96",
   "metadata": {},
   "outputs": [
    {
     "name": "stdout",
     "output_type": "stream",
     "text": [
      "2532 + 29783X + 38324X^2 + 61546X^3\n",
      "(1111,1111)\n",
      "(34485,34485)\n",
      "(15064,15064)\n",
      "(25005,25005)\n"
     ]
    }
   ],
   "source": [
    "import com.mbmccoy.euclid.polynomial.FieldOps.lagrangeInterpolation\n",
    "\n",
    "val alpha = omegas.reduce((a,b) => (pf.one-a)*(pf.one-b))\n",
    "val alphaInv = alpha.reciprocal\n",
    "val rootPoly = Polynomial[pf.Element]((0, -pf.one), (omegaOrder, pf.one))\n",
    "val interpolant = omegas.zip(executionTrace)\n",
    ".map((w, y) => {\n",
    "    val poly = rootPoly / (Polynomial[pf.Element]((0, -w), (1, pf.one)))\n",
    "    y * poly / poly(w)\n",
    "}).reduce((x, y) => x + y)\n",
    "\n",
    "println(interpolant)\n",
    "omegas.zip(executionTrace).map((w, y) => {\n",
    "    println((interpolant(w), y))\n",
    "})"
   ]
  },
  {
   "cell_type": "code",
   "execution_count": 36,
   "id": "ec6ac58e-ccfd-46e6-978a-e6032cf8feb9",
   "metadata": {},
   "outputs": [
    {
     "name": "stdout",
     "output_type": "stream",
     "text": [
      "x | f(x)\n",
      "--|-----\n",
      "$\\hat{\\omega}^{0}$ | 1111\n",
      "$\\hat{\\omega}^{1}$ | 6760\n",
      "$\\hat{\\omega}^{2}$ | 59183\n",
      "$\\hat{\\omega}^{3}$ | 50423\n",
      "$\\hat{\\omega}^{4}$ | 34485\n",
      "$\\hat{\\omega}^{5}$ | 38024\n",
      "$\\hat{\\omega}^{6}$ | 59117\n",
      "$\\hat{\\omega}^{7}$ | 20665\n",
      "$\\hat{\\omega}^{8}$ | 15064\n",
      "$\\hat{\\omega}^{9}$ | 35863\n",
      "$\\hat{\\omega}^{10}$ | 50630\n",
      "$\\hat{\\omega}^{11}$ | 39013\n",
      "$\\hat{\\omega}^{12}$ | 25005\n",
      "$\\hat{\\omega}^{13}$ | 60555\n",
      "$\\hat{\\omega}^{14}$ | 37809\n",
      "$\\hat{\\omega}^{15}$ | 31101\n"
     ]
    }
   ],
   "source": [
    "println(\"x | f(x)\")\n",
    "println(\"--|-----\")\n",
    "getSubgroup(omegaHat).zipWithIndex.map((x, i) => {\n",
    "    println(f\"$$\\hat{\\omega}^{${i}}$$ | ${interpolant(x)}\")\n",
    "})"
   ]
  },
  {
   "cell_type": "markdown",
   "id": "ba82fafc-1343-4442-8f1e-0f83f0a1f649",
   "metadata": {},
   "source": [
    "x | f(x)\n",
    "--|-----\n",
    "$\\hat{\\omega}^{0}$ | 1111\n",
    "$\\hat{\\omega}^{1}$ | 6760\n",
    "$\\hat{\\omega}^{2}$ | 59183\n",
    "$\\hat{\\omega}^{3}$ | 50423\n",
    "$\\hat{\\omega}^{4}$ | 34485\n",
    "$\\hat{\\omega}^{5}$ | 38024\n",
    "$\\hat{\\omega}^{6}$ | 59117\n",
    "$\\hat{\\omega}^{7}$ | 20665\n",
    "$\\hat{\\omega}^{8}$ | 15064\n",
    "$\\hat{\\omega}^{9}$ | 35863\n",
    "$\\hat{\\omega}^{10}$ | 50630\n",
    "$\\hat{\\omega}^{11}$ | 39013\n",
    "$\\hat{\\omega}^{12}$ | 25005\n",
    "$\\hat{\\omega}^{13}$ | 60555\n",
    "$\\hat{\\omega}^{14}$ | 37809\n",
    "$\\hat{\\omega}^{15}$ | 31101"
   ]
  }
 ],
 "metadata": {
  "kernelspec": {
   "display_name": "Scala (sources)",
   "language": "scala",
   "name": "scala-debug"
  },
  "language_info": {
   "codemirror_mode": "text/x-scala",
   "file_extension": ".sc",
   "mimetype": "text/x-scala",
   "name": "scala",
   "nbconvert_exporter": "script",
   "version": "2.13.6"
  }
 },
 "nbformat": 4,
 "nbformat_minor": 5
}
