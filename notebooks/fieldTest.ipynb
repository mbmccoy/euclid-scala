{
 "cells": [
  {
   "cell_type": "code",
   "execution_count": 4,
   "id": "68aabd05-2a78-4216-81b5-b5a7a3103698",
   "metadata": {},
   "outputs": [
    {
     "data": {
      "text/plain": [
       "\u001b[32mimport \u001b[39m\u001b[36mammonite.ops._\n",
       "\u001b[39m\n",
       "\u001b[36mjarString\u001b[39m: \u001b[32mString\u001b[39m = \u001b[32m\"target/scala-3.0.2/euclid-scala-assembly-0.1.0-SNAPSHOT.jar\"\u001b[39m\n",
       "\u001b[36mpath\u001b[39m: \u001b[32mPath\u001b[39m = /Users/michaelmccoy/Projects/euclid-scala/notebooks/target/scala-3.0.2/euclid-scala-assembly-0.1.0-SNAPSHOT.jar"
      ]
     },
     "execution_count": 4,
     "metadata": {},
     "output_type": "execute_result"
    }
   ],
   "source": [
    "import ammonite.ops._\n",
    "val jarString = \"target/scala-3.0.2/euclid-scala-assembly-0.1.0-SNAPSHOT.jar\"\n",
    "val path = ammonite.ops.pwd / ammonite.ops.RelPath(jarString)\n",
    "interp.load.cp(path)"
   ]
  },
  {
   "cell_type": "code",
   "execution_count": 5,
   "id": "cf5a7ec9-d2e6-4dae-828b-a56082b9ce34",
   "metadata": {},
   "outputs": [
    {
     "data": {
      "text/plain": [
       "defined \u001b[32mfunction\u001b[39m \u001b[36mmakeExponents\u001b[39m"
      ]
     },
     "execution_count": 5,
     "metadata": {},
     "output_type": "execute_result"
    }
   ],
   "source": [
    "def makeExponents(order: Int, l: List[Int]): List[(Int, Int)] = {\n",
    "    l.zipWithIndex.map(t => (t._2, t._1)) :::((order, 1) :: Nil)\n",
    "}"
   ]
  },
  {
   "cell_type": "code",
   "execution_count": 6,
   "id": "7c2c21df-54a2-4e1b-b7fb-3fda5c8926c9",
   "metadata": {},
   "outputs": [
    {
     "name": "stdout",
     "output_type": "stream",
     "text": [
      "1 + X + X^2 + X^3 + X^4 + X^8 + X^9 + X^11 + X^15 + X^16 + X^17 + X^22 + X^23 + X^24 + X^63\n"
     ]
    },
    {
     "data": {
      "text/plain": [
       "\u001b[32mimport \u001b[39m\u001b[36mcom.mbmccoy.euclid.polynomial.Prime\n",
       "\u001b[39m\n",
       "\u001b[32mimport \u001b[39m\u001b[36mcom.mbmccoy.euclid.polynomial.FiniteField\n",
       "\n",
       "\u001b[39m\n",
       "\u001b[36mprime\u001b[39m: \u001b[32mPrime\u001b[39m = \u001b[33mPrime\u001b[39m(value = 2)\n",
       "\u001b[36morder\u001b[39m: \u001b[32mInt\u001b[39m = \u001b[32m63\u001b[39m\n",
       "\u001b[36mexponents\u001b[39m: \u001b[32mIterable\u001b[39m[\u001b[32mTuple2\u001b[39m[\u001b[32mInt\u001b[39m, \u001b[32mInt\u001b[39m]] = \u001b[33mList\u001b[39m(\n",
       "  (\u001b[32m0\u001b[39m, \u001b[32m1\u001b[39m),\n",
       "  (\u001b[32m1\u001b[39m, \u001b[32m1\u001b[39m),\n",
       "  (\u001b[32m2\u001b[39m, \u001b[32m1\u001b[39m),\n",
       "  (\u001b[32m3\u001b[39m, \u001b[32m1\u001b[39m),\n",
       "  (\u001b[32m4\u001b[39m, \u001b[32m1\u001b[39m),\n",
       "  (\u001b[32m5\u001b[39m, \u001b[32m0\u001b[39m),\n",
       "  (\u001b[32m6\u001b[39m, \u001b[32m0\u001b[39m),\n",
       "  (\u001b[32m7\u001b[39m, \u001b[32m0\u001b[39m),\n",
       "  (\u001b[32m8\u001b[39m, \u001b[32m1\u001b[39m),\n",
       "  (\u001b[32m9\u001b[39m, \u001b[32m1\u001b[39m),\n",
       "  (\u001b[32m10\u001b[39m, \u001b[32m0\u001b[39m),\n",
       "  (\u001b[32m11\u001b[39m, \u001b[32m1\u001b[39m),\n",
       "  (\u001b[32m12\u001b[39m, \u001b[32m0\u001b[39m),\n",
       "  (\u001b[32m13\u001b[39m, \u001b[32m0\u001b[39m),\n",
       "  (\u001b[32m14\u001b[39m, \u001b[32m0\u001b[39m),\n",
       "  (\u001b[32m15\u001b[39m, \u001b[32m1\u001b[39m),\n",
       "  (\u001b[32m16\u001b[39m, \u001b[32m1\u001b[39m),\n",
       "  (\u001b[32m17\u001b[39m, \u001b[32m1\u001b[39m),\n",
       "  (\u001b[32m18\u001b[39m, \u001b[32m0\u001b[39m),\n",
       "  (\u001b[32m19\u001b[39m, \u001b[32m0\u001b[39m),\n",
       "  (\u001b[32m20\u001b[39m, \u001b[32m0\u001b[39m),\n",
       "  (\u001b[32m21\u001b[39m, \u001b[32m0\u001b[39m),\n",
       "  (\u001b[32m22\u001b[39m, \u001b[32m1\u001b[39m),\n",
       "  (\u001b[32m23\u001b[39m, \u001b[32m1\u001b[39m),\n",
       "  (\u001b[32m24\u001b[39m, \u001b[32m1\u001b[39m),\n",
       "  (\u001b[32m63\u001b[39m, \u001b[32m1\u001b[39m)\n",
       ")\n",
       "\u001b[36mcf\u001b[39m: \u001b[32mFiniteField\u001b[39m = com.mbmccoy.euclid.polynomial.FiniteField@341a800d"
      ]
     },
     "execution_count": 6,
     "metadata": {},
     "output_type": "execute_result"
    }
   ],
   "source": [
    "import com.mbmccoy.euclid.polynomial.Prime\n",
    "import com.mbmccoy.euclid.polynomial.FiniteField\n",
    "\n",
    "val prime = Prime.next(2)\n",
    "val order = 63\n",
    "// Specifying exponents creates the field significantly faster\n",
    "val exponents: Iterable[(Int, Int)] = makeExponents(\n",
    "    order, \n",
    "    1 :: 1 ::1 :: 1 :: 1 :: 0 :: 0 :: 0 :: 1 :: 1 :: 0 :: 1 :: 0 :: 0 :: 0 :: 1 :: 1 :: 1 :: 0 :: 0 ::0 :: 0 :: 1 :: 1:: 1 :: Nil\n",
    "    ) \n",
    "val cf = FiniteField(prime, order, exponents)\n",
    "println(cf.conwayPolynomial)"
   ]
  },
  {
   "cell_type": "code",
   "execution_count": 7,
   "id": "1ef3700a-e92a-45d2-b116-8035c7aad558",
   "metadata": {},
   "outputs": [
    {
     "name": "stdout",
     "output_type": "stream",
     "text": [
      "2 + 2X + X^2\n"
     ]
    },
    {
     "data": {
      "text/plain": [
       "\u001b[36mprime\u001b[39m: \u001b[32mPrime\u001b[39m = \u001b[33mPrime\u001b[39m(value = 5)\n",
       "\u001b[36morder\u001b[39m: \u001b[32mInt\u001b[39m = \u001b[32m2\u001b[39m\n",
       "\u001b[36mexponents\u001b[39m: \u001b[32mList\u001b[39m[\u001b[32mTuple2\u001b[39m[\u001b[32mInt\u001b[39m, \u001b[32mInt\u001b[39m]] = \u001b[33mList\u001b[39m((\u001b[32m0\u001b[39m, \u001b[32m2\u001b[39m), (\u001b[32m1\u001b[39m, \u001b[32m7\u001b[39m), (\u001b[32m2\u001b[39m, \u001b[32m1\u001b[39m), (\u001b[32m2\u001b[39m, \u001b[32m1\u001b[39m))\n",
       "\u001b[36mcf\u001b[39m: \u001b[32mFiniteField\u001b[39m = com.mbmccoy.euclid.polynomial.FiniteField@3f1b9c36"
      ]
     },
     "execution_count": 7,
     "metadata": {},
     "output_type": "execute_result"
    }
   ],
   "source": [
    "\n",
    "val prime = Prime.next(5)\n",
    "val order = 2\n",
    "val exponents = makeExponents(\n",
    "    order,\n",
    "    2::7::1::Nil\n",
    ")\n",
    "val cf = FiniteField(prime, order, exponents)\n",
    "println(cf.conwayPolynomial)\n"
   ]
  },
  {
   "cell_type": "code",
   "execution_count": 8,
   "id": "2c4731aa-f7a6-4026-9da1-30a608506132",
   "metadata": {},
   "outputs": [
    {
     "name": "stdout",
     "output_type": "stream",
     "text": [
      "Loading Conway polynomial database...\n",
      "Done.\n"
     ]
    },
    {
     "ename": "",
     "evalue": "",
     "output_type": "error",
     "traceback": [
      "\u001b[31mjava.util.NoSuchElementException: None.get\u001b[39m\n  scala.None$.get(\u001b[32mOption.scala\u001b[39m:\u001b[32m627\u001b[39m)\n  scala.None$.get(\u001b[32mOption.scala\u001b[39m:\u001b[32m626\u001b[39m)\n  com.mbmccoy.euclid.polynomial.ConwayData$.get(\u001b[32mFiniteField.scala\u001b[39m:\u001b[32m152\u001b[39m)\n  com.mbmccoy.euclid.polynomial.FiniteField.<init>(\u001b[32mFiniteField.scala\u001b[39m:\u001b[32m51\u001b[39m)\n  ammonite.$sess.cmd7$Helper.<init>(\u001b[32mcmd7.sc\u001b[39m:\u001b[32m206\u001b[39m)\n  ammonite.$sess.cmd7$.<clinit>(\u001b[32mcmd7.sc\u001b[39m:\u001b[32m7\u001b[39m)"
     ]
    }
   ],
   "source": [
    "val prime = Prime.next(65537)\n",
    "val order = 1\n",
    "val cf = FiniteField(prime, order)\n",
    "cf.conwayPolynomial"
   ]
  }
 ],
 "metadata": {
  "kernelspec": {
   "display_name": "Scala (sources)",
   "language": "scala",
   "name": "scala-debug"
  },
  "language_info": {
   "codemirror_mode": "text/x-scala",
   "file_extension": ".sc",
   "mimetype": "text/x-scala",
   "name": "scala",
   "nbconvert_exporter": "script",
   "version": "2.13.6"
  }
 },
 "nbformat": 4,
 "nbformat_minor": 5
}
