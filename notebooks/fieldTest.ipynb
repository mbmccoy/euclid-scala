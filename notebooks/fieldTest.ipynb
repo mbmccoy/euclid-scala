{
 "cells": [
  {
   "cell_type": "code",
   "execution_count": 1,
   "id": "68aabd05-2a78-4216-81b5-b5a7a3103698",
   "metadata": {},
   "outputs": [
    {
     "data": {
      "text/plain": [
       "\u001b[32mimport \u001b[39m\u001b[36mammonite.ops._\n",
       "\u001b[39m\n",
       "\u001b[36mjarString\u001b[39m: \u001b[32mString\u001b[39m = \u001b[32m\"../target/scala-3.0.2/euclid-scala-assembly-0.1.0-SNAPSHOT.jar\"\u001b[39m\n",
       "\u001b[36mpath\u001b[39m: \u001b[32mPath\u001b[39m = /Users/michaelmccoy/Projects/euclid-scala/target/scala-3.0.2/euclid-scala-assembly-0.1.0-SNAPSHOT.jar"
      ]
     },
     "execution_count": 1,
     "metadata": {},
     "output_type": "execute_result"
    }
   ],
   "source": [
    "kernel.silent(true) // supress all non-explicit output\n",
    "import ammonite.ops._\n",
    "val jarString = \"../target/scala-3.0.2/euclid-scala-assembly-0.1.0-SNAPSHOT.jar\"\n",
    "val path = ammonite.ops.pwd / ammonite.ops.RelPath(jarString)\n",
    "interp.load.cp(path)\n"
   ]
  },
  {
   "cell_type": "code",
   "execution_count": 2,
   "id": "cf5a7ec9-d2e6-4dae-828b-a56082b9ce34",
   "metadata": {},
   "outputs": [],
   "source": [
    "def makeExponents(order: Int, l: List[Int]): List[(Int, Int)] = {\n",
    "    l.zipWithIndex.map(t => (t._2, t._1)) :::((order, 1) :: Nil)\n",
    "}"
   ]
  },
  {
   "cell_type": "code",
   "execution_count": 3,
   "id": "2c4731aa-f7a6-4026-9da1-30a608506132",
   "metadata": {},
   "outputs": [
    {
     "name": "stdout",
     "output_type": "stream",
     "text": [
      "1 + X\n",
      "com.mbmccoy.euclid.polynomial.PrimeField(65537)\n"
     ]
    }
   ],
   "source": [
    "import com.mbmccoy.euclid.polynomial._\n",
    "import scala.annotation.tailrec\n",
    "\n",
    "val prime = Prime.next(65537)\n",
    "val order = 1\n",
    "val cf = FiniteField(prime, order)\n",
    "println(cf.conwayPolynomial)\n",
    "println(cf.primeField)\n"
   ]
  },
  {
   "cell_type": "code",
   "execution_count": 4,
   "id": "024c36d7-50b2-4ecb-a8da-61749f36f90d",
   "metadata": {},
   "outputs": [
    {
     "name": "stdout",
     "output_type": "stream",
     "text": [
      "x=1, order=1\n",
      "x=2, order=32\n",
      "x=3, order=65536\n",
      "x=4, order=16\n",
      "x=5, order=65536\n",
      "x=6, order=65536\n",
      "x=7, order=65536\n",
      "x=8, order=32\n",
      "x=9, order=32768\n",
      "x=10, order=65536\n"
     ]
    }
   ],
   "source": [
    "def getOrder(x: cf.Element): Int = {\n",
    "    var y = x\n",
    "    var order = 1\n",
    "    while (y != cf.one) {\n",
    "        y *= x\n",
    "        order += 1\n",
    "    }\n",
    "    order\n",
    "}\n",
    "    \n",
    "// Print some orders here\n",
    "var x = cf.one\n",
    "for (_ <- 0 until 10) {\n",
    "    val order = getOrder(x)\n",
    "    println(f\"x=${x}, order=${order}\")\n",
    "    x = x + cf.one\n",
    "}"
   ]
  },
  {
   "cell_type": "code",
   "execution_count": 5,
   "id": "9efc916b-c888-4e40-ba94-f21470a78300",
   "metadata": {},
   "outputs": [
    {
     "name": "stdout",
     "output_type": "stream",
     "text": [
      "16384: order=16\n",
      "65281: order=4\n"
     ]
    }
   ],
   "source": [
    "val omega_hat = cf((0, 16384) :: Nil) // 128, order = 32\n",
    "val omega = omega_hat.pow(4) // order = 8\n",
    "\n",
    "def printOrder(x: cf.Element) = println(f\"${x}: order=${getOrder(x)}\")\n",
    "\n",
    "printOrder(omega_hat)\n",
    "printOrder(omega)\n"
   ]
  },
  {
   "cell_type": "code",
   "execution_count": 6,
   "id": "f3ff3bb6-ae88-4571-97bf-7ca5d45a7ddf",
   "metadata": {},
   "outputs": [],
   "source": [
    "\n",
    "val M = cf((0, 44734)::Nil)\n",
    "val K1 = cf((0, 34369)::Nil)\n",
    "val K2 = cf((0, 51062)::Nil)\n",
    "val MInverse = M.reciprocal\n",
    "\n",
    "// TODO: verify that this is close enough to a width-1 Rescue hash.\n",
    "def rescueIteration(x: cf.Element): cf.Element = {\n",
    "    val y = M * x.pow(3) + K1\n",
    "    val cubeRoot = y.reciprocal.pow((cf.order.toInt - 2)/3)\n",
    "    cubeRoot * MInverse + K2\n",
    "}\n",
    "\n",
    "def rescueHash(x: cf.Element, rounds: Int): cf.Element = {\n",
    "    if (rounds <= 0) { \n",
    "        x\n",
    "    } else {\n",
    "        rescueHash(rescueIteration(x), rounds - 1)\n",
    "    }\n",
    "}\n"
   ]
  },
  {
   "cell_type": "code",
   "execution_count": 7,
   "id": "b22a62d3-aa58-4f64-bba0-8b3aa240782c",
   "metadata": {},
   "outputs": [],
   "source": [
    "val fortyTwo = cf((0, 42)::Nil)\n",
    "\n",
    "@tailrec\n",
    "def winterfellReversed(x: cf.Element, rounds: Int, trace: List[cf.Element] = Nil): List[cf.Element] = {\n",
    "    if (rounds <= 0) trace\n",
    "    else {\n",
    "        winterfellReversed(x*x*x + fortyTwo, rounds - 1, x :: trace)\n",
    "    }\n",
    "}"
   ]
  },
  {
   "cell_type": "code",
   "execution_count": 8,
   "id": "519b0d1f-2ca3-4b10-8de2-a6afd52c6110",
   "metadata": {},
   "outputs": [
    {
     "name": "stdout",
     "output_type": "stream",
     "text": [
      "List(54234, 2820, 55234, 23285)\n"
     ]
    }
   ],
   "source": [
    "val secret = cf((0, 54234)::Nil)\n",
    "val executionTrace = winterfellReversed(secret, 4).reverse\n",
    "println(executionTrace)\n"
   ]
  },
  {
   "cell_type": "code",
   "execution_count": 9,
   "id": "600289c7-3258-4799-976a-958a0247e8c0",
   "metadata": {},
   "outputs": [
    {
     "name": "stdout",
     "output_type": "stream",
     "text": [
      "List(1, 65281, 65536, 256)\n"
     ]
    }
   ],
   "source": [
    "\n",
    "def getSubgroup(x: cf.Element) = {\n",
    "    lazy val subgroup: LazyList[cf.Element] = x #:: subgroup.map{y => x*y}\n",
    "    cf.one :: subgroup.takeWhile(_ != cf.one).toList\n",
    "}\n",
    "val omegas = getSubgroup(omega)\n",
    "\n",
    "println(omegas)"
   ]
  },
  {
   "cell_type": "code",
   "execution_count": null,
   "id": "53f7f728-f566-4bb1-adf3-2338ea390b96",
   "metadata": {},
   "outputs": [
    {
     "name": "stdout",
     "output_type": "stream",
     "text": [
      "List((1,54234), (65281,2820), (65536,55234), (256,23285))\n"
     ]
    }
   ],
   "source": [
    "import com.mbmccoy.euclid.polynomial.FieldOps.lagrangeInterpolation\n",
    "println(omegas.zip(executionTrace))\n",
    "println(lagrangeInterpolation(omegas.zip(executionTrace)))"
   ]
  }
 ],
 "metadata": {
  "kernelspec": {
   "display_name": "Scala (sources)",
   "language": "scala",
   "name": "scala-debug"
  },
  "language_info": {
   "codemirror_mode": "text/x-scala",
   "file_extension": ".sc",
   "mimetype": "text/x-scala",
   "name": "scala",
   "nbconvert_exporter": "script",
   "version": "2.13.6"
  }
 },
 "nbformat": 4,
 "nbformat_minor": 5
}
